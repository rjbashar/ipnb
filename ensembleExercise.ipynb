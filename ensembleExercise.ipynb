{
 "metadata": {
  "name": "",
  "signature": "sha256:276f60283bc0d6a0671387cb86660f7c3a6d04aa97cfcb695787ffc7b0d0d713"
 },
 "nbformat": 3,
 "nbformat_minor": 0,
 "worksheets": [
  {
   "cells": [
    {
     "cell_type": "markdown",
     "metadata": {},
     "source": [
      "https://www.python.org/dev/peps/pep-0008#introduction<BR>\n",
      "http://scikit-learn.org/<BR>\n",
      "http://pandas.pydata.org/<BR>"
     ]
    },
    {
     "cell_type": "code",
     "collapsed": false,
     "input": [
      "%matplotlib inline\n",
      "import numpy as np\n",
      "import pandas as pd\n",
      "import pylab as plt\n",
      "from time import sleep\n",
      "from IPython import display"
     ],
     "language": "python",
     "metadata": {},
     "outputs": [],
     "prompt_number": 117
    },
    {
     "cell_type": "heading",
     "level": 2,
     "metadata": {},
     "source": [
      "Fetch the data and load it in pandas"
     ]
    },
    {
     "cell_type": "code",
     "collapsed": false,
     "input": [
      "data = pd.read_csv(local_filename)"
     ],
     "language": "python",
     "metadata": {},
     "outputs": [],
     "prompt_number": 144
    },
    {
     "cell_type": "code",
     "collapsed": false,
     "input": [
      "data.head()"
     ],
     "language": "python",
     "metadata": {},
     "outputs": [
      {
       "html": [
        "<div style=\"max-height:1000px;max-width:1500px;overflow:auto;\">\n",
        "<table border=\"1\" class=\"dataframe\">\n",
        "  <thead>\n",
        "    <tr style=\"text-align: right;\">\n",
        "      <th></th>\n",
        "      <th>Id</th>\n",
        "      <th>Elevation</th>\n",
        "      <th>Aspect</th>\n",
        "      <th>Slope</th>\n",
        "      <th>Horizontal_Distance_To_Hydrology</th>\n",
        "      <th>Vertical_Distance_To_Hydrology</th>\n",
        "      <th>Horizontal_Distance_To_Roadways</th>\n",
        "      <th>Hillshade_9am</th>\n",
        "      <th>Hillshade_Noon</th>\n",
        "      <th>Hillshade_3pm</th>\n",
        "      <th>...</th>\n",
        "      <th>Soil_Type32</th>\n",
        "      <th>Soil_Type33</th>\n",
        "      <th>Soil_Type34</th>\n",
        "      <th>Soil_Type35</th>\n",
        "      <th>Soil_Type36</th>\n",
        "      <th>Soil_Type37</th>\n",
        "      <th>Soil_Type38</th>\n",
        "      <th>Soil_Type39</th>\n",
        "      <th>Soil_Type40</th>\n",
        "      <th>Cover_Type</th>\n",
        "    </tr>\n",
        "  </thead>\n",
        "  <tbody>\n",
        "    <tr>\n",
        "      <th>0</th>\n",
        "      <td> 1</td>\n",
        "      <td> 2596</td>\n",
        "      <td>  51</td>\n",
        "      <td>  3</td>\n",
        "      <td> 258</td>\n",
        "      <td>   0</td>\n",
        "      <td>  510</td>\n",
        "      <td> 221</td>\n",
        "      <td> 232</td>\n",
        "      <td> 148</td>\n",
        "      <td>...</td>\n",
        "      <td> 0</td>\n",
        "      <td> 0</td>\n",
        "      <td> 0</td>\n",
        "      <td> 0</td>\n",
        "      <td> 0</td>\n",
        "      <td> 0</td>\n",
        "      <td> 0</td>\n",
        "      <td> 0</td>\n",
        "      <td> 0</td>\n",
        "      <td> 5</td>\n",
        "    </tr>\n",
        "    <tr>\n",
        "      <th>1</th>\n",
        "      <td> 2</td>\n",
        "      <td> 2590</td>\n",
        "      <td>  56</td>\n",
        "      <td>  2</td>\n",
        "      <td> 212</td>\n",
        "      <td>  -6</td>\n",
        "      <td>  390</td>\n",
        "      <td> 220</td>\n",
        "      <td> 235</td>\n",
        "      <td> 151</td>\n",
        "      <td>...</td>\n",
        "      <td> 0</td>\n",
        "      <td> 0</td>\n",
        "      <td> 0</td>\n",
        "      <td> 0</td>\n",
        "      <td> 0</td>\n",
        "      <td> 0</td>\n",
        "      <td> 0</td>\n",
        "      <td> 0</td>\n",
        "      <td> 0</td>\n",
        "      <td> 5</td>\n",
        "    </tr>\n",
        "    <tr>\n",
        "      <th>2</th>\n",
        "      <td> 3</td>\n",
        "      <td> 2804</td>\n",
        "      <td> 139</td>\n",
        "      <td>  9</td>\n",
        "      <td> 268</td>\n",
        "      <td>  65</td>\n",
        "      <td> 3180</td>\n",
        "      <td> 234</td>\n",
        "      <td> 238</td>\n",
        "      <td> 135</td>\n",
        "      <td>...</td>\n",
        "      <td> 0</td>\n",
        "      <td> 0</td>\n",
        "      <td> 0</td>\n",
        "      <td> 0</td>\n",
        "      <td> 0</td>\n",
        "      <td> 0</td>\n",
        "      <td> 0</td>\n",
        "      <td> 0</td>\n",
        "      <td> 0</td>\n",
        "      <td> 2</td>\n",
        "    </tr>\n",
        "    <tr>\n",
        "      <th>3</th>\n",
        "      <td> 4</td>\n",
        "      <td> 2785</td>\n",
        "      <td> 155</td>\n",
        "      <td> 18</td>\n",
        "      <td> 242</td>\n",
        "      <td> 118</td>\n",
        "      <td> 3090</td>\n",
        "      <td> 238</td>\n",
        "      <td> 238</td>\n",
        "      <td> 122</td>\n",
        "      <td>...</td>\n",
        "      <td> 0</td>\n",
        "      <td> 0</td>\n",
        "      <td> 0</td>\n",
        "      <td> 0</td>\n",
        "      <td> 0</td>\n",
        "      <td> 0</td>\n",
        "      <td> 0</td>\n",
        "      <td> 0</td>\n",
        "      <td> 0</td>\n",
        "      <td> 2</td>\n",
        "    </tr>\n",
        "    <tr>\n",
        "      <th>4</th>\n",
        "      <td> 5</td>\n",
        "      <td> 2595</td>\n",
        "      <td>  45</td>\n",
        "      <td>  2</td>\n",
        "      <td> 153</td>\n",
        "      <td>  -1</td>\n",
        "      <td>  391</td>\n",
        "      <td> 220</td>\n",
        "      <td> 234</td>\n",
        "      <td> 150</td>\n",
        "      <td>...</td>\n",
        "      <td> 0</td>\n",
        "      <td> 0</td>\n",
        "      <td> 0</td>\n",
        "      <td> 0</td>\n",
        "      <td> 0</td>\n",
        "      <td> 0</td>\n",
        "      <td> 0</td>\n",
        "      <td> 0</td>\n",
        "      <td> 0</td>\n",
        "      <td> 5</td>\n",
        "    </tr>\n",
        "  </tbody>\n",
        "</table>\n",
        "<p>5 rows \u00d7 56 columns</p>\n",
        "</div>"
       ],
       "metadata": {},
       "output_type": "pyout",
       "prompt_number": 142,
       "text": [
        "   Id  Elevation  Aspect  Slope  Horizontal_Distance_To_Hydrology  \\\n",
        "0   1       2596      51      3                               258   \n",
        "1   2       2590      56      2                               212   \n",
        "2   3       2804     139      9                               268   \n",
        "3   4       2785     155     18                               242   \n",
        "4   5       2595      45      2                               153   \n",
        "\n",
        "   Vertical_Distance_To_Hydrology  Horizontal_Distance_To_Roadways  \\\n",
        "0                               0                              510   \n",
        "1                              -6                              390   \n",
        "2                              65                             3180   \n",
        "3                             118                             3090   \n",
        "4                              -1                              391   \n",
        "\n",
        "   Hillshade_9am  Hillshade_Noon  Hillshade_3pm      ...        Soil_Type32  \\\n",
        "0            221             232            148      ...                  0   \n",
        "1            220             235            151      ...                  0   \n",
        "2            234             238            135      ...                  0   \n",
        "3            238             238            122      ...                  0   \n",
        "4            220             234            150      ...                  0   \n",
        "\n",
        "   Soil_Type33  Soil_Type34  Soil_Type35  Soil_Type36  Soil_Type37  \\\n",
        "0            0            0            0            0            0   \n",
        "1            0            0            0            0            0   \n",
        "2            0            0            0            0            0   \n",
        "3            0            0            0            0            0   \n",
        "4            0            0            0            0            0   \n",
        "\n",
        "   Soil_Type38  Soil_Type39  Soil_Type40  Cover_Type  \n",
        "0            0            0            0           5  \n",
        "1            0            0            0           5  \n",
        "2            0            0            0           2  \n",
        "3            0            0            0           2  \n",
        "4            0            0            0           5  \n",
        "\n",
        "[5 rows x 56 columns]"
       ]
      }
     ],
     "prompt_number": 142
    },
    {
     "cell_type": "heading",
     "level": 2,
     "metadata": {},
     "source": [
      "Prepare input to scikit and train and test cut"
     ]
    },
    {
     "cell_type": "code",
     "collapsed": false,
     "input": [
      "binary_data = data[logical_or(data['Cover_Type'] == 1,data['Cover_Type'] == 2)] # two-class classification set\n",
      "X = binary_data.drop('Cover_Type', axis=1).values\n",
      "y = binary_data['Cover_Type'].values\n",
      "y = 2 * y - 3 # converting labels from [1,2] to [-1,1]"
     ],
     "language": "python",
     "metadata": {},
     "outputs": [],
     "prompt_number": 63
    },
    {
     "cell_type": "code",
     "collapsed": false,
     "input": [
      "from sklearn.cross_validation import train_test_split\n",
      "\n",
      "X_train, X_test, y_train, y_test = train_test_split(\n",
      "    X, y, test_size=0.2, random_state=None)"
     ],
     "language": "python",
     "metadata": {},
     "outputs": [],
     "prompt_number": 64
    },
    {
     "cell_type": "heading",
     "level": 2,
     "metadata": {},
     "source": [
      "Train a single decision tree"
     ]
    },
    {
     "cell_type": "code",
     "collapsed": false,
     "input": [
      "from sklearn.tree import DecisionTreeClassifier\n",
      "\n",
      "clf = DecisionTreeClassifier(max_depth=8)"
     ],
     "language": "python",
     "metadata": {},
     "outputs": [],
     "prompt_number": 65
    },
    {
     "cell_type": "code",
     "collapsed": false,
     "input": [
      "%%time\n",
      "_ = clf.fit(X_train, y_train)"
     ],
     "language": "python",
     "metadata": {},
     "outputs": [
      {
       "output_type": "stream",
       "stream": "stdout",
       "text": [
        "CPU times: user 57.7 ms, sys: 2.75 ms, total: 60.5 ms\n",
        "Wall time: 60.7 ms\n"
       ]
      }
     ],
     "prompt_number": 66
    },
    {
     "cell_type": "code",
     "collapsed": false,
     "input": [
      "from sklearn.metrics import classification_report\n",
      "target_names = data['Cover_Type'].unique().astype(str).sort()\n",
      "y_pred = clf.predict(X_test)\n",
      "print(classification_report(y_test, y_pred, target_names=target_names))"
     ],
     "language": "python",
     "metadata": {},
     "outputs": [
      {
       "output_type": "stream",
       "stream": "stdout",
       "text": [
        "             precision    recall  f1-score   support\n",
        "\n",
        "         -1       0.76      0.79      0.77       457\n",
        "          1       0.75      0.72      0.74       407\n",
        "\n",
        "avg / total       0.76      0.76      0.76       864\n",
        "\n"
       ]
      }
     ],
     "prompt_number": 67
    },
    {
     "cell_type": "code",
     "collapsed": false,
     "input": [
      "from sklearn.metrics import accuracy_score\n",
      "\n",
      "accuracy_score(y_test, y_pred)"
     ],
     "language": "python",
     "metadata": {},
     "outputs": [
      {
       "metadata": {},
       "output_type": "pyout",
       "prompt_number": 68,
       "text": [
        "0.75694444444444442"
       ]
      }
     ],
     "prompt_number": 68
    },
    {
     "cell_type": "heading",
     "level": 2,
     "metadata": {},
     "source": [
      "Train AdaBoost"
     ]
    },
    {
     "cell_type": "markdown",
     "metadata": {},
     "source": [
      "Your first exercise is to program AdaBoost. The skeleton of the algorithm is given below, and the pseudocode is found on page 5 in <a href=\"https://www.lri.fr/~kegl/Polytechnique/slidesHamming.pdf\">my slides</a>. You can call <code>DecisionTreeClassifier</code> as above, but you have to figure out how to pass the weight vector (for weighted classification) to the <code>fit</code> function using the help pages of scikit-learn. At the end of the loop, compute the training and test errors so the last section of the code can plot the lerning curves. \n",
      "\n",
      "Once the code is finished, play around with the hyperparameters (D and T), and try to understand what is happening."
     ]
    },
    {
     "cell_type": "code",
     "collapsed": false,
     "input": [
      "D = 2 # tree depth\n",
      "T = 1000 # number of trees\n",
      "w = np.ones(X_train.shape[0]) / X_train.shape[0]\n",
      "training_scores = np.zeros(X_train.shape[0])\n",
      "test_scores = np.zeros(X_test.shape[0])\n",
      "\n",
      "ts = plt.arange(len(training_scores))\n",
      "training_errors = []\n",
      "test_errors = []\n",
      "\n",
      "for t in range(T):\n",
      "    # Your code should go here\n",
      "    \n",
      "    plt.clf()\n",
      "    training_errors.append(training_error)\n",
      "    test_errors.append(test_error)\n",
      "    plt.plot(ts[:t+1], training_errors[:t+1])\n",
      "    plt.plot(ts[:t+1], test_errors[:t+1])\n",
      "    display.clear_output(wait=True)\n",
      "    display.display(plt.gcf())\n",
      "    sleep(.001)\n"
     ],
     "language": "python",
     "metadata": {},
     "outputs": [
      {
       "metadata": {},
       "output_type": "display_data",
       "png": "[encoded data removed]",
       "text": [
        "<matplotlib.figure.Figure at 0x10afca150>"
       ]
      },
      {
       "metadata": {},
       "output_type": "display_data",
       "png": "[encoded data removed]",
       "text": [
        "<matplotlib.figure.Figure at 0x10afca150>"
       ]
      }
     ],
     "prompt_number": 133
    },
    {
     "cell_type": "heading",
     "level": 2,
     "metadata": {},
     "source": [
      "Train Random Forests"
     ]
    },
    {
     "cell_type": "markdown",
     "metadata": {},
     "source": [
      "Your second exercise is to program Random Forests. Random Forests build trees on bootstrapped samples (the training data is resampled with replacement, as many times as the size of the training set). Trees are also reandomized because the number of (random) features considered at each cut is less than the total number of features. Again figure out how to do this using the help pages of scikit-learn. The final classifier is an unweighted average of the base classifier trees.\n",
      "\n",
      "Once the code is finished, play around with the hyperparameters (D, N, and T), and try to understand what is happening."
     ]
    },
    {
     "cell_type": "code",
     "collapsed": false,
     "input": [
      "D = 20 # tree depth\n",
      "T = 100 # number of trees\n",
      "N = 5 # number of random features at each cut\n",
      "training_scores = np.zeros(X_train.shape[0])\n",
      "test_scores = np.zeros(X_test.shape[0])\n",
      "\n",
      "ts = plt.arange(len(training_scores))\n",
      "training_errors = []\n",
      "test_errors = []\n",
      "\n",
      "for t in range(T):\n",
      "    # Your code should go here\n",
      "    \n",
      "    plt.clf()\n",
      "    training_errors.append(training_error)\n",
      "    test_errors.append(test_error)\n",
      "    plt.plot(ts[:t+1], training_errors[:t+1])\n",
      "    plt.plot(ts[:t+1], test_errors[:t+1])\n",
      "    display.clear_output(wait=True)\n",
      "    display.display(plt.gcf())\n",
      "    sleep(.001)"
     ],
     "language": "python",
     "metadata": {},
     "outputs": [
      {
       "metadata": {},
       "output_type": "display_data",
       "png": "[encoded data removed]",
       "text": [
        "<matplotlib.figure.Figure at 0x10f51a150>"
       ]
      },
      {
       "metadata": {},
       "output_type": "display_data",
       "png": "[encoded data removed]",
       "text": [
        "<matplotlib.figure.Figure at 0x10f51a150>"
       ]
      }
     ],
     "prompt_number": 146
    },
    {
     "cell_type": "heading",
     "level": 2,
     "metadata": {},
     "source": [
      "Optimize AdaBoost"
     ]
    },
    {
     "cell_type": "markdown",
     "metadata": {},
     "source": [
      "Your final exercise is to optimize the tree depth in AdaBoost. Copy-paste your AdaBoost code into a function, and call it with different tree depths and, for simplicity, with <code>T = 100</code> iterations. Plot the final test error vs the tree depth. Discuss the plot."
     ]
    },
    {
     "cell_type": "code",
     "collapsed": false,
     "input": [
      "# Your code should go here"
     ],
     "language": "python",
     "metadata": {},
     "outputs": [],
     "prompt_number": 131
    }
   ],
   "metadata": {}
  }
 ]
}